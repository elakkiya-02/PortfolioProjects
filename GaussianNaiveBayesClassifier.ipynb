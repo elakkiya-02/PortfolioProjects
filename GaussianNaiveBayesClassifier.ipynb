{
  "nbformat": 4,
  "nbformat_minor": 0,
  "metadata": {
    "colab": {
      "name": "GaussianNaiveBayesClassifier.ipynb",
      "provenance": [],
      "collapsed_sections": [],
      "authorship_tag": "ABX9TyNG/9cEcO5vwnbn+qYMzRcf",
      "include_colab_link": true
    },
    "kernelspec": {
      "name": "python3",
      "display_name": "Python 3"
    },
    "language_info": {
      "name": "python"
    }
  },
  "cells": [
    {
      "cell_type": "markdown",
      "metadata": {
        "id": "view-in-github",
        "colab_type": "text"
      },
      "source": [
        "<a href=\"https://colab.research.google.com/github/elakkiya-02/PortfolioProjects/blob/main/GaussianNaiveBayesClassifier.ipynb\" target=\"_parent\"><img src=\"https://colab.research.google.com/assets/colab-badge.svg\" alt=\"Open In Colab\"/></a>"
      ]
    },
    {
      "cell_type": "code",
      "execution_count": 1,
      "metadata": {
        "colab": {
          "base_uri": "https://localhost:8080/",
          "height": 206
        },
        "id": "j3X0RKwXUkfm",
        "outputId": "232293ba-1363-4427-d098-adcbaa3a4664"
      },
      "outputs": [
        {
          "output_type": "execute_result",
          "data": {
            "text/plain": [
              "   Id  SepalLengthCm  SepalWidthCm  PetalLengthCm  PetalWidthCm      Species\n",
              "0   1            5.1           3.5            1.4           0.2  Iris-setosa\n",
              "1   2            4.9           3.0            1.4           0.2  Iris-setosa\n",
              "2   3            4.7           3.2            1.3           0.2  Iris-setosa\n",
              "3   4            4.6           3.1            1.5           0.2  Iris-setosa\n",
              "4   5            5.0           3.6            1.4           0.2  Iris-setosa"
            ],
            "text/html": [
              "\n",
              "  <div id=\"df-0cb15efa-fdcb-49ad-80c1-5c4fe815a490\">\n",
              "    <div class=\"colab-df-container\">\n",
              "      <div>\n",
              "<style scoped>\n",
              "    .dataframe tbody tr th:only-of-type {\n",
              "        vertical-align: middle;\n",
              "    }\n",
              "\n",
              "    .dataframe tbody tr th {\n",
              "        vertical-align: top;\n",
              "    }\n",
              "\n",
              "    .dataframe thead th {\n",
              "        text-align: right;\n",
              "    }\n",
              "</style>\n",
              "<table border=\"1\" class=\"dataframe\">\n",
              "  <thead>\n",
              "    <tr style=\"text-align: right;\">\n",
              "      <th></th>\n",
              "      <th>Id</th>\n",
              "      <th>SepalLengthCm</th>\n",
              "      <th>SepalWidthCm</th>\n",
              "      <th>PetalLengthCm</th>\n",
              "      <th>PetalWidthCm</th>\n",
              "      <th>Species</th>\n",
              "    </tr>\n",
              "  </thead>\n",
              "  <tbody>\n",
              "    <tr>\n",
              "      <th>0</th>\n",
              "      <td>1</td>\n",
              "      <td>5.1</td>\n",
              "      <td>3.5</td>\n",
              "      <td>1.4</td>\n",
              "      <td>0.2</td>\n",
              "      <td>Iris-setosa</td>\n",
              "    </tr>\n",
              "    <tr>\n",
              "      <th>1</th>\n",
              "      <td>2</td>\n",
              "      <td>4.9</td>\n",
              "      <td>3.0</td>\n",
              "      <td>1.4</td>\n",
              "      <td>0.2</td>\n",
              "      <td>Iris-setosa</td>\n",
              "    </tr>\n",
              "    <tr>\n",
              "      <th>2</th>\n",
              "      <td>3</td>\n",
              "      <td>4.7</td>\n",
              "      <td>3.2</td>\n",
              "      <td>1.3</td>\n",
              "      <td>0.2</td>\n",
              "      <td>Iris-setosa</td>\n",
              "    </tr>\n",
              "    <tr>\n",
              "      <th>3</th>\n",
              "      <td>4</td>\n",
              "      <td>4.6</td>\n",
              "      <td>3.1</td>\n",
              "      <td>1.5</td>\n",
              "      <td>0.2</td>\n",
              "      <td>Iris-setosa</td>\n",
              "    </tr>\n",
              "    <tr>\n",
              "      <th>4</th>\n",
              "      <td>5</td>\n",
              "      <td>5.0</td>\n",
              "      <td>3.6</td>\n",
              "      <td>1.4</td>\n",
              "      <td>0.2</td>\n",
              "      <td>Iris-setosa</td>\n",
              "    </tr>\n",
              "  </tbody>\n",
              "</table>\n",
              "</div>\n",
              "      <button class=\"colab-df-convert\" onclick=\"convertToInteractive('df-0cb15efa-fdcb-49ad-80c1-5c4fe815a490')\"\n",
              "              title=\"Convert this dataframe to an interactive table.\"\n",
              "              style=\"display:none;\">\n",
              "        \n",
              "  <svg xmlns=\"http://www.w3.org/2000/svg\" height=\"24px\"viewBox=\"0 0 24 24\"\n",
              "       width=\"24px\">\n",
              "    <path d=\"M0 0h24v24H0V0z\" fill=\"none\"/>\n",
              "    <path d=\"M18.56 5.44l.94 2.06.94-2.06 2.06-.94-2.06-.94-.94-2.06-.94 2.06-2.06.94zm-11 1L8.5 8.5l.94-2.06 2.06-.94-2.06-.94L8.5 2.5l-.94 2.06-2.06.94zm10 10l.94 2.06.94-2.06 2.06-.94-2.06-.94-.94-2.06-.94 2.06-2.06.94z\"/><path d=\"M17.41 7.96l-1.37-1.37c-.4-.4-.92-.59-1.43-.59-.52 0-1.04.2-1.43.59L10.3 9.45l-7.72 7.72c-.78.78-.78 2.05 0 2.83L4 21.41c.39.39.9.59 1.41.59.51 0 1.02-.2 1.41-.59l7.78-7.78 2.81-2.81c.8-.78.8-2.07 0-2.86zM5.41 20L4 18.59l7.72-7.72 1.47 1.35L5.41 20z\"/>\n",
              "  </svg>\n",
              "      </button>\n",
              "      \n",
              "  <style>\n",
              "    .colab-df-container {\n",
              "      display:flex;\n",
              "      flex-wrap:wrap;\n",
              "      gap: 12px;\n",
              "    }\n",
              "\n",
              "    .colab-df-convert {\n",
              "      background-color: #E8F0FE;\n",
              "      border: none;\n",
              "      border-radius: 50%;\n",
              "      cursor: pointer;\n",
              "      display: none;\n",
              "      fill: #1967D2;\n",
              "      height: 32px;\n",
              "      padding: 0 0 0 0;\n",
              "      width: 32px;\n",
              "    }\n",
              "\n",
              "    .colab-df-convert:hover {\n",
              "      background-color: #E2EBFA;\n",
              "      box-shadow: 0px 1px 2px rgba(60, 64, 67, 0.3), 0px 1px 3px 1px rgba(60, 64, 67, 0.15);\n",
              "      fill: #174EA6;\n",
              "    }\n",
              "\n",
              "    [theme=dark] .colab-df-convert {\n",
              "      background-color: #3B4455;\n",
              "      fill: #D2E3FC;\n",
              "    }\n",
              "\n",
              "    [theme=dark] .colab-df-convert:hover {\n",
              "      background-color: #434B5C;\n",
              "      box-shadow: 0px 1px 3px 1px rgba(0, 0, 0, 0.15);\n",
              "      filter: drop-shadow(0px 1px 2px rgba(0, 0, 0, 0.3));\n",
              "      fill: #FFFFFF;\n",
              "    }\n",
              "  </style>\n",
              "\n",
              "      <script>\n",
              "        const buttonEl =\n",
              "          document.querySelector('#df-0cb15efa-fdcb-49ad-80c1-5c4fe815a490 button.colab-df-convert');\n",
              "        buttonEl.style.display =\n",
              "          google.colab.kernel.accessAllowed ? 'block' : 'none';\n",
              "\n",
              "        async function convertToInteractive(key) {\n",
              "          const element = document.querySelector('#df-0cb15efa-fdcb-49ad-80c1-5c4fe815a490');\n",
              "          const dataTable =\n",
              "            await google.colab.kernel.invokeFunction('convertToInteractive',\n",
              "                                                     [key], {});\n",
              "          if (!dataTable) return;\n",
              "\n",
              "          const docLinkHtml = 'Like what you see? Visit the ' +\n",
              "            '<a target=\"_blank\" href=https://colab.research.google.com/notebooks/data_table.ipynb>data table notebook</a>'\n",
              "            + ' to learn more about interactive tables.';\n",
              "          element.innerHTML = '';\n",
              "          dataTable['output_type'] = 'display_data';\n",
              "          await google.colab.output.renderOutput(dataTable, element);\n",
              "          const docLink = document.createElement('div');\n",
              "          docLink.innerHTML = docLinkHtml;\n",
              "          element.appendChild(docLink);\n",
              "        }\n",
              "      </script>\n",
              "    </div>\n",
              "  </div>\n",
              "  "
            ]
          },
          "metadata": {},
          "execution_count": 1
        }
      ],
      "source": [
        "import pandas as pd\n",
        "\n",
        "iris_data = pd.read_csv('https://raw.githubusercontent.com/analyticsindiamagazine/MocksDatasets/main/Iris.csv')\n",
        "iris_data.head()"
      ]
    },
    {
      "cell_type": "code",
      "source": [
        "x = iris_data.iloc[:,1:-1].values\n",
        "y = iris_data.iloc[:, -1].values"
      ],
      "metadata": {
        "id": "qMNwsba0Ux4-"
      },
      "execution_count": 2,
      "outputs": []
    },
    {
      "cell_type": "code",
      "source": [
        "#Understanding the distribution of the dataset\n",
        "iris_data[\"Species\"].value_counts()"
      ],
      "metadata": {
        "colab": {
          "base_uri": "https://localhost:8080/"
        },
        "id": "olAmfKXUU5AE",
        "outputId": "4c4a8386-6456-47df-dcc8-2bc94e028fce"
      },
      "execution_count": 3,
      "outputs": [
        {
          "output_type": "execute_result",
          "data": {
            "text/plain": [
              "Iris-setosa        50\n",
              "Iris-versicolor    50\n",
              "Iris-virginica     50\n",
              "Name: Species, dtype: int64"
            ]
          },
          "metadata": {},
          "execution_count": 3
        }
      ]
    },
    {
      "cell_type": "code",
      "source": [
        "iris_data['Species'].value_counts(normalize=True)"
      ],
      "metadata": {
        "colab": {
          "base_uri": "https://localhost:8080/"
        },
        "id": "cgjeGZFCVH2M",
        "outputId": "5d271040-7a0e-4f0e-8094-3c2c27674320"
      },
      "execution_count": 4,
      "outputs": [
        {
          "output_type": "execute_result",
          "data": {
            "text/plain": [
              "Iris-setosa        0.333333\n",
              "Iris-versicolor    0.333333\n",
              "Iris-virginica     0.333333\n",
              "Name: Species, dtype: float64"
            ]
          },
          "metadata": {},
          "execution_count": 4
        }
      ]
    },
    {
      "cell_type": "code",
      "source": [
        "from sklearn.model_selection import train_test_split\n",
        "x_train,x_test, y_train, y_test = train_test_split(x,y, test_size=0.20, shuffle=True,random_state = 0)"
      ],
      "metadata": {
        "id": "XZlUjr0SVO1i"
      },
      "execution_count": 5,
      "outputs": []
    },
    {
      "cell_type": "code",
      "source": [
        "x_train.shape, x_test.shape"
      ],
      "metadata": {
        "colab": {
          "base_uri": "https://localhost:8080/"
        },
        "id": "FAkbOuZFVgYC",
        "outputId": "67282753-53ca-42ef-a7a7-4b1361f201f1"
      },
      "execution_count": 6,
      "outputs": [
        {
          "output_type": "execute_result",
          "data": {
            "text/plain": [
              "((120, 4), (30, 4))"
            ]
          },
          "metadata": {},
          "execution_count": 6
        }
      ]
    },
    {
      "cell_type": "code",
      "source": [
        "#Data Preprocessing\n",
        "\n",
        "from sklearn.preprocessing import MinMaxScaler\n",
        "\n",
        "scale = MinMaxScaler()\n",
        "x_train = scale.fit_transform(x_train)\n",
        "x_test = scale.transform(x_test)\n",
        "x_train"
      ],
      "metadata": {
        "colab": {
          "base_uri": "https://localhost:8080/"
        },
        "id": "WqoNdrVDVj9i",
        "outputId": "cb84db5d-4aaa-458d-efb5-a024ee103ae2"
      },
      "execution_count": 7,
      "outputs": [
        {
          "output_type": "execute_result",
          "data": {
            "text/plain": [
              "array([[0.58333333, 0.45833333, 0.75862069, 0.70833333],\n",
              "       [0.30555556, 0.41666667, 0.5862069 , 0.58333333],\n",
              "       [0.25      , 0.625     , 0.06896552, 0.04166667],\n",
              "       [0.5       , 0.41666667, 0.65517241, 0.70833333],\n",
              "       [0.58333333, 0.33333333, 0.77586207, 0.875     ],\n",
              "       [0.25      , 0.29166667, 0.48275862, 0.54166667],\n",
              "       [0.38888889, 0.75      , 0.10344828, 0.08333333],\n",
              "       [0.47222222, 0.29166667, 0.68965517, 0.625     ],\n",
              "       [0.44444444, 0.41666667, 0.53448276, 0.58333333],\n",
              "       [0.41666667, 0.25      , 0.5       , 0.45833333],\n",
              "       [0.69444444, 0.41666667, 0.75862069, 0.83333333],\n",
              "       [0.11111111, 0.5       , 0.03448276, 0.04166667],\n",
              "       [0.72222222, 0.45833333, 0.68965517, 0.91666667],\n",
              "       [0.19444444, 0.625     , 0.0862069 , 0.20833333],\n",
              "       [0.30555556, 0.70833333, 0.06896552, 0.04166667],\n",
              "       [0.19444444, 0.        , 0.4137931 , 0.375     ],\n",
              "       [0.61111111, 0.41666667, 0.75862069, 0.70833333],\n",
              "       [0.66666667, 0.54166667, 0.79310345, 1.        ],\n",
              "       [0.47222222, 0.08333333, 0.67241379, 0.58333333],\n",
              "       [0.66666667, 0.20833333, 0.81034483, 0.70833333],\n",
              "       [0.36111111, 0.20833333, 0.48275862, 0.41666667],\n",
              "       [0.94444444, 0.41666667, 0.86206897, 0.91666667],\n",
              "       [0.55555556, 0.54166667, 0.62068966, 0.625     ],\n",
              "       [0.33333333, 0.16666667, 0.46551724, 0.41666667],\n",
              "       [0.55555556, 0.29166667, 0.65517241, 0.70833333],\n",
              "       [0.55555556, 0.33333333, 0.68965517, 0.58333333],\n",
              "       [0.16666667, 0.20833333, 0.5862069 , 0.66666667],\n",
              "       [0.55555556, 0.20833333, 0.67241379, 0.75      ],\n",
              "       [0.75      , 0.5       , 0.62068966, 0.54166667],\n",
              "       [0.61111111, 0.41666667, 0.70689655, 0.79166667],\n",
              "       [0.47222222, 0.58333333, 0.5862069 , 0.625     ],\n",
              "       [0.13888889, 0.45833333, 0.0862069 , 0.04166667],\n",
              "       [0.41666667, 0.29166667, 0.68965517, 0.75      ],\n",
              "       [0.36111111, 0.29166667, 0.53448276, 0.5       ],\n",
              "       [0.36111111, 0.375     , 0.43103448, 0.5       ],\n",
              "       [0.33333333, 0.20833333, 0.5       , 0.5       ],\n",
              "       [0.5       , 0.41666667, 0.60344828, 0.54166667],\n",
              "       [0.80555556, 0.5       , 0.84482759, 0.70833333],\n",
              "       [0.27777778, 0.70833333, 0.06896552, 0.04166667],\n",
              "       [0.        , 0.41666667, 0.        , 0.        ],\n",
              "       [0.58333333, 0.29166667, 0.72413793, 0.75      ],\n",
              "       [0.38888889, 0.41666667, 0.53448276, 0.45833333],\n",
              "       [0.30555556, 0.58333333, 0.10344828, 0.04166667],\n",
              "       [0.38888889, 1.        , 0.06896552, 0.125     ],\n",
              "       [0.72222222, 0.45833333, 0.65517241, 0.58333333],\n",
              "       [0.08333333, 0.45833333, 0.06896552, 0.04166667],\n",
              "       [0.44444444, 0.41666667, 0.68965517, 0.70833333],\n",
              "       [0.22222222, 0.20833333, 0.32758621, 0.41666667],\n",
              "       [0.08333333, 0.58333333, 0.05172414, 0.08333333],\n",
              "       [0.52777778, 0.08333333, 0.5862069 , 0.58333333],\n",
              "       [0.80555556, 0.66666667, 0.86206897, 1.        ],\n",
              "       [0.38888889, 0.375     , 0.53448276, 0.5       ],\n",
              "       [0.13888889, 0.41666667, 0.05172414, 0.        ],\n",
              "       [0.77777778, 0.41666667, 0.82758621, 0.83333333],\n",
              "       [0.72222222, 0.5       , 0.79310345, 0.91666667],\n",
              "       [0.61111111, 0.41666667, 0.81034483, 0.875     ],\n",
              "       [0.58333333, 0.33333333, 0.77586207, 0.83333333],\n",
              "       [0.22222222, 0.75      , 0.0862069 , 0.04166667],\n",
              "       [0.13888889, 0.58333333, 0.0862069 , 0.04166667],\n",
              "       [0.61111111, 0.5       , 0.68965517, 0.79166667],\n",
              "       [0.66666667, 0.54166667, 0.79310345, 0.83333333],\n",
              "       [0.05555556, 0.125     , 0.03448276, 0.08333333],\n",
              "       [0.52777778, 0.58333333, 0.74137931, 0.91666667],\n",
              "       [0.16666667, 0.41666667, 0.05172414, 0.04166667],\n",
              "       [0.38888889, 0.20833333, 0.67241379, 0.79166667],\n",
              "       [0.72222222, 0.45833333, 0.74137931, 0.83333333],\n",
              "       [0.02777778, 0.5       , 0.03448276, 0.04166667],\n",
              "       [0.19444444, 0.66666667, 0.05172414, 0.04166667],\n",
              "       [0.80555556, 0.41666667, 0.81034483, 0.625     ],\n",
              "       [0.22222222, 0.625     , 0.05172414, 0.08333333],\n",
              "       [0.02777778, 0.41666667, 0.03448276, 0.04166667],\n",
              "       [0.30555556, 0.79166667, 0.10344828, 0.125     ],\n",
              "       [0.33333333, 0.125     , 0.5       , 0.5       ],\n",
              "       [0.69444444, 0.5       , 0.82758621, 0.91666667],\n",
              "       [0.91666667, 0.41666667, 0.94827586, 0.83333333],\n",
              "       [0.22222222, 0.625     , 0.05172414, 0.04166667],\n",
              "       [0.16666667, 0.45833333, 0.06896552, 0.        ],\n",
              "       [0.25      , 0.58333333, 0.05172414, 0.04166667],\n",
              "       [0.38888889, 0.33333333, 0.5862069 , 0.5       ],\n",
              "       [0.63888889, 0.41666667, 0.56896552, 0.54166667],\n",
              "       [0.19444444, 0.5       , 0.01724138, 0.04166667],\n",
              "       [0.22222222, 0.54166667, 0.10344828, 0.16666667],\n",
              "       [0.58333333, 0.375     , 0.55172414, 0.5       ],\n",
              "       [0.30555556, 0.58333333, 0.06896552, 0.125     ],\n",
              "       [0.94444444, 0.25      , 1.        , 0.91666667],\n",
              "       [0.16666667, 0.16666667, 0.37931034, 0.375     ],\n",
              "       [1.        , 0.75      , 0.9137931 , 0.79166667],\n",
              "       [0.66666667, 0.45833333, 0.56896552, 0.54166667],\n",
              "       [0.25      , 0.875     , 0.06896552, 0.        ],\n",
              "       [0.47222222, 0.41666667, 0.63793103, 0.70833333],\n",
              "       [0.41666667, 0.83333333, 0.01724138, 0.04166667],\n",
              "       [0.94444444, 0.33333333, 0.96551724, 0.79166667],\n",
              "       [0.22222222, 0.75      , 0.06896552, 0.08333333],\n",
              "       [0.11111111, 0.5       , 0.0862069 , 0.04166667],\n",
              "       [0.86111111, 0.33333333, 0.86206897, 0.75      ],\n",
              "       [0.19444444, 0.54166667, 0.05172414, 0.04166667],\n",
              "       [0.55555556, 0.58333333, 0.77586207, 0.95833333],\n",
              "       [0.38888889, 0.33333333, 0.51724138, 0.5       ],\n",
              "       [0.41666667, 0.29166667, 0.48275862, 0.45833333],\n",
              "       [0.38888889, 0.25      , 0.4137931 , 0.375     ],\n",
              "       [0.58333333, 0.5       , 0.72413793, 0.91666667],\n",
              "       [0.66666667, 0.41666667, 0.70689655, 0.91666667],\n",
              "       [0.55555556, 0.20833333, 0.65517241, 0.58333333],\n",
              "       [0.66666667, 0.41666667, 0.67241379, 0.66666667],\n",
              "       [0.19444444, 0.41666667, 0.0862069 , 0.04166667],\n",
              "       [0.33333333, 0.16666667, 0.44827586, 0.375     ],\n",
              "       [0.66666667, 0.45833333, 0.77586207, 0.95833333],\n",
              "       [0.41666667, 0.29166667, 0.68965517, 0.75      ],\n",
              "       [0.22222222, 0.58333333, 0.06896552, 0.04166667],\n",
              "       [0.63888889, 0.375     , 0.60344828, 0.5       ],\n",
              "       [0.36111111, 0.41666667, 0.51724138, 0.5       ],\n",
              "       [0.44444444, 0.5       , 0.63793103, 0.70833333],\n",
              "       [0.55555556, 0.125     , 0.56896552, 0.5       ],\n",
              "       [0.33333333, 0.625     , 0.03448276, 0.04166667],\n",
              "       [0.22222222, 0.70833333, 0.06896552, 0.125     ],\n",
              "       [0.16666667, 0.45833333, 0.06896552, 0.        ],\n",
              "       [0.55555556, 0.375     , 0.77586207, 0.70833333],\n",
              "       [0.41666667, 0.29166667, 0.51724138, 0.375     ],\n",
              "       [0.94444444, 0.75      , 0.96551724, 0.875     ],\n",
              "       [0.08333333, 0.5       , 0.05172414, 0.04166667]])"
            ]
          },
          "metadata": {},
          "execution_count": 7
        }
      ]
    },
    {
      "cell_type": "code",
      "source": [
        "from sklearn.naive_bayes import GaussianNB\n",
        "gnb = GaussianNB()\n",
        "gnb.fit(x_train, y_train)\n",
        "\n",
        "y_pred = gnb.predict(x_test)\n",
        "y_pred"
      ],
      "metadata": {
        "colab": {
          "base_uri": "https://localhost:8080/"
        },
        "id": "15LR_zs9WHiK",
        "outputId": "6910be88-cd36-471b-b280-40e7bb708ae7"
      },
      "execution_count": 8,
      "outputs": [
        {
          "output_type": "execute_result",
          "data": {
            "text/plain": [
              "array(['Iris-virginica', 'Iris-versicolor', 'Iris-setosa',\n",
              "       'Iris-virginica', 'Iris-setosa', 'Iris-virginica', 'Iris-setosa',\n",
              "       'Iris-versicolor', 'Iris-versicolor', 'Iris-versicolor',\n",
              "       'Iris-versicolor', 'Iris-versicolor', 'Iris-versicolor',\n",
              "       'Iris-versicolor', 'Iris-versicolor', 'Iris-setosa',\n",
              "       'Iris-versicolor', 'Iris-versicolor', 'Iris-setosa', 'Iris-setosa',\n",
              "       'Iris-virginica', 'Iris-versicolor', 'Iris-setosa', 'Iris-setosa',\n",
              "       'Iris-virginica', 'Iris-setosa', 'Iris-setosa', 'Iris-versicolor',\n",
              "       'Iris-versicolor', 'Iris-setosa'], dtype='<U15')"
            ]
          },
          "metadata": {},
          "execution_count": 8
        }
      ]
    },
    {
      "cell_type": "code",
      "source": [
        "#Actual vs Predicted\n",
        "\n",
        "pd.DataFrame(data={'Actual Labels':y_test, 'Predicted Labels':y_pred})"
      ],
      "metadata": {
        "colab": {
          "base_uri": "https://localhost:8080/",
          "height": 990
        },
        "id": "DGRz4-ZeWdyo",
        "outputId": "c0587889-fd2e-425b-cbc7-a637720f9fa6"
      },
      "execution_count": 9,
      "outputs": [
        {
          "output_type": "execute_result",
          "data": {
            "text/plain": [
              "      Actual Labels Predicted Labels\n",
              "0    Iris-virginica   Iris-virginica\n",
              "1   Iris-versicolor  Iris-versicolor\n",
              "2       Iris-setosa      Iris-setosa\n",
              "3    Iris-virginica   Iris-virginica\n",
              "4       Iris-setosa      Iris-setosa\n",
              "5    Iris-virginica   Iris-virginica\n",
              "6       Iris-setosa      Iris-setosa\n",
              "7   Iris-versicolor  Iris-versicolor\n",
              "8   Iris-versicolor  Iris-versicolor\n",
              "9   Iris-versicolor  Iris-versicolor\n",
              "10   Iris-virginica  Iris-versicolor\n",
              "11  Iris-versicolor  Iris-versicolor\n",
              "12  Iris-versicolor  Iris-versicolor\n",
              "13  Iris-versicolor  Iris-versicolor\n",
              "14  Iris-versicolor  Iris-versicolor\n",
              "15      Iris-setosa      Iris-setosa\n",
              "16  Iris-versicolor  Iris-versicolor\n",
              "17  Iris-versicolor  Iris-versicolor\n",
              "18      Iris-setosa      Iris-setosa\n",
              "19      Iris-setosa      Iris-setosa\n",
              "20   Iris-virginica   Iris-virginica\n",
              "21  Iris-versicolor  Iris-versicolor\n",
              "22      Iris-setosa      Iris-setosa\n",
              "23      Iris-setosa      Iris-setosa\n",
              "24   Iris-virginica   Iris-virginica\n",
              "25      Iris-setosa      Iris-setosa\n",
              "26      Iris-setosa      Iris-setosa\n",
              "27  Iris-versicolor  Iris-versicolor\n",
              "28  Iris-versicolor  Iris-versicolor\n",
              "29      Iris-setosa      Iris-setosa"
            ],
            "text/html": [
              "\n",
              "  <div id=\"df-4dad7c8c-0045-41d5-8433-07a34a8ba1d4\">\n",
              "    <div class=\"colab-df-container\">\n",
              "      <div>\n",
              "<style scoped>\n",
              "    .dataframe tbody tr th:only-of-type {\n",
              "        vertical-align: middle;\n",
              "    }\n",
              "\n",
              "    .dataframe tbody tr th {\n",
              "        vertical-align: top;\n",
              "    }\n",
              "\n",
              "    .dataframe thead th {\n",
              "        text-align: right;\n",
              "    }\n",
              "</style>\n",
              "<table border=\"1\" class=\"dataframe\">\n",
              "  <thead>\n",
              "    <tr style=\"text-align: right;\">\n",
              "      <th></th>\n",
              "      <th>Actual Labels</th>\n",
              "      <th>Predicted Labels</th>\n",
              "    </tr>\n",
              "  </thead>\n",
              "  <tbody>\n",
              "    <tr>\n",
              "      <th>0</th>\n",
              "      <td>Iris-virginica</td>\n",
              "      <td>Iris-virginica</td>\n",
              "    </tr>\n",
              "    <tr>\n",
              "      <th>1</th>\n",
              "      <td>Iris-versicolor</td>\n",
              "      <td>Iris-versicolor</td>\n",
              "    </tr>\n",
              "    <tr>\n",
              "      <th>2</th>\n",
              "      <td>Iris-setosa</td>\n",
              "      <td>Iris-setosa</td>\n",
              "    </tr>\n",
              "    <tr>\n",
              "      <th>3</th>\n",
              "      <td>Iris-virginica</td>\n",
              "      <td>Iris-virginica</td>\n",
              "    </tr>\n",
              "    <tr>\n",
              "      <th>4</th>\n",
              "      <td>Iris-setosa</td>\n",
              "      <td>Iris-setosa</td>\n",
              "    </tr>\n",
              "    <tr>\n",
              "      <th>5</th>\n",
              "      <td>Iris-virginica</td>\n",
              "      <td>Iris-virginica</td>\n",
              "    </tr>\n",
              "    <tr>\n",
              "      <th>6</th>\n",
              "      <td>Iris-setosa</td>\n",
              "      <td>Iris-setosa</td>\n",
              "    </tr>\n",
              "    <tr>\n",
              "      <th>7</th>\n",
              "      <td>Iris-versicolor</td>\n",
              "      <td>Iris-versicolor</td>\n",
              "    </tr>\n",
              "    <tr>\n",
              "      <th>8</th>\n",
              "      <td>Iris-versicolor</td>\n",
              "      <td>Iris-versicolor</td>\n",
              "    </tr>\n",
              "    <tr>\n",
              "      <th>9</th>\n",
              "      <td>Iris-versicolor</td>\n",
              "      <td>Iris-versicolor</td>\n",
              "    </tr>\n",
              "    <tr>\n",
              "      <th>10</th>\n",
              "      <td>Iris-virginica</td>\n",
              "      <td>Iris-versicolor</td>\n",
              "    </tr>\n",
              "    <tr>\n",
              "      <th>11</th>\n",
              "      <td>Iris-versicolor</td>\n",
              "      <td>Iris-versicolor</td>\n",
              "    </tr>\n",
              "    <tr>\n",
              "      <th>12</th>\n",
              "      <td>Iris-versicolor</td>\n",
              "      <td>Iris-versicolor</td>\n",
              "    </tr>\n",
              "    <tr>\n",
              "      <th>13</th>\n",
              "      <td>Iris-versicolor</td>\n",
              "      <td>Iris-versicolor</td>\n",
              "    </tr>\n",
              "    <tr>\n",
              "      <th>14</th>\n",
              "      <td>Iris-versicolor</td>\n",
              "      <td>Iris-versicolor</td>\n",
              "    </tr>\n",
              "    <tr>\n",
              "      <th>15</th>\n",
              "      <td>Iris-setosa</td>\n",
              "      <td>Iris-setosa</td>\n",
              "    </tr>\n",
              "    <tr>\n",
              "      <th>16</th>\n",
              "      <td>Iris-versicolor</td>\n",
              "      <td>Iris-versicolor</td>\n",
              "    </tr>\n",
              "    <tr>\n",
              "      <th>17</th>\n",
              "      <td>Iris-versicolor</td>\n",
              "      <td>Iris-versicolor</td>\n",
              "    </tr>\n",
              "    <tr>\n",
              "      <th>18</th>\n",
              "      <td>Iris-setosa</td>\n",
              "      <td>Iris-setosa</td>\n",
              "    </tr>\n",
              "    <tr>\n",
              "      <th>19</th>\n",
              "      <td>Iris-setosa</td>\n",
              "      <td>Iris-setosa</td>\n",
              "    </tr>\n",
              "    <tr>\n",
              "      <th>20</th>\n",
              "      <td>Iris-virginica</td>\n",
              "      <td>Iris-virginica</td>\n",
              "    </tr>\n",
              "    <tr>\n",
              "      <th>21</th>\n",
              "      <td>Iris-versicolor</td>\n",
              "      <td>Iris-versicolor</td>\n",
              "    </tr>\n",
              "    <tr>\n",
              "      <th>22</th>\n",
              "      <td>Iris-setosa</td>\n",
              "      <td>Iris-setosa</td>\n",
              "    </tr>\n",
              "    <tr>\n",
              "      <th>23</th>\n",
              "      <td>Iris-setosa</td>\n",
              "      <td>Iris-setosa</td>\n",
              "    </tr>\n",
              "    <tr>\n",
              "      <th>24</th>\n",
              "      <td>Iris-virginica</td>\n",
              "      <td>Iris-virginica</td>\n",
              "    </tr>\n",
              "    <tr>\n",
              "      <th>25</th>\n",
              "      <td>Iris-setosa</td>\n",
              "      <td>Iris-setosa</td>\n",
              "    </tr>\n",
              "    <tr>\n",
              "      <th>26</th>\n",
              "      <td>Iris-setosa</td>\n",
              "      <td>Iris-setosa</td>\n",
              "    </tr>\n",
              "    <tr>\n",
              "      <th>27</th>\n",
              "      <td>Iris-versicolor</td>\n",
              "      <td>Iris-versicolor</td>\n",
              "    </tr>\n",
              "    <tr>\n",
              "      <th>28</th>\n",
              "      <td>Iris-versicolor</td>\n",
              "      <td>Iris-versicolor</td>\n",
              "    </tr>\n",
              "    <tr>\n",
              "      <th>29</th>\n",
              "      <td>Iris-setosa</td>\n",
              "      <td>Iris-setosa</td>\n",
              "    </tr>\n",
              "  </tbody>\n",
              "</table>\n",
              "</div>\n",
              "      <button class=\"colab-df-convert\" onclick=\"convertToInteractive('df-4dad7c8c-0045-41d5-8433-07a34a8ba1d4')\"\n",
              "              title=\"Convert this dataframe to an interactive table.\"\n",
              "              style=\"display:none;\">\n",
              "        \n",
              "  <svg xmlns=\"http://www.w3.org/2000/svg\" height=\"24px\"viewBox=\"0 0 24 24\"\n",
              "       width=\"24px\">\n",
              "    <path d=\"M0 0h24v24H0V0z\" fill=\"none\"/>\n",
              "    <path d=\"M18.56 5.44l.94 2.06.94-2.06 2.06-.94-2.06-.94-.94-2.06-.94 2.06-2.06.94zm-11 1L8.5 8.5l.94-2.06 2.06-.94-2.06-.94L8.5 2.5l-.94 2.06-2.06.94zm10 10l.94 2.06.94-2.06 2.06-.94-2.06-.94-.94-2.06-.94 2.06-2.06.94z\"/><path d=\"M17.41 7.96l-1.37-1.37c-.4-.4-.92-.59-1.43-.59-.52 0-1.04.2-1.43.59L10.3 9.45l-7.72 7.72c-.78.78-.78 2.05 0 2.83L4 21.41c.39.39.9.59 1.41.59.51 0 1.02-.2 1.41-.59l7.78-7.78 2.81-2.81c.8-.78.8-2.07 0-2.86zM5.41 20L4 18.59l7.72-7.72 1.47 1.35L5.41 20z\"/>\n",
              "  </svg>\n",
              "      </button>\n",
              "      \n",
              "  <style>\n",
              "    .colab-df-container {\n",
              "      display:flex;\n",
              "      flex-wrap:wrap;\n",
              "      gap: 12px;\n",
              "    }\n",
              "\n",
              "    .colab-df-convert {\n",
              "      background-color: #E8F0FE;\n",
              "      border: none;\n",
              "      border-radius: 50%;\n",
              "      cursor: pointer;\n",
              "      display: none;\n",
              "      fill: #1967D2;\n",
              "      height: 32px;\n",
              "      padding: 0 0 0 0;\n",
              "      width: 32px;\n",
              "    }\n",
              "\n",
              "    .colab-df-convert:hover {\n",
              "      background-color: #E2EBFA;\n",
              "      box-shadow: 0px 1px 2px rgba(60, 64, 67, 0.3), 0px 1px 3px 1px rgba(60, 64, 67, 0.15);\n",
              "      fill: #174EA6;\n",
              "    }\n",
              "\n",
              "    [theme=dark] .colab-df-convert {\n",
              "      background-color: #3B4455;\n",
              "      fill: #D2E3FC;\n",
              "    }\n",
              "\n",
              "    [theme=dark] .colab-df-convert:hover {\n",
              "      background-color: #434B5C;\n",
              "      box-shadow: 0px 1px 3px 1px rgba(0, 0, 0, 0.15);\n",
              "      filter: drop-shadow(0px 1px 2px rgba(0, 0, 0, 0.3));\n",
              "      fill: #FFFFFF;\n",
              "    }\n",
              "  </style>\n",
              "\n",
              "      <script>\n",
              "        const buttonEl =\n",
              "          document.querySelector('#df-4dad7c8c-0045-41d5-8433-07a34a8ba1d4 button.colab-df-convert');\n",
              "        buttonEl.style.display =\n",
              "          google.colab.kernel.accessAllowed ? 'block' : 'none';\n",
              "\n",
              "        async function convertToInteractive(key) {\n",
              "          const element = document.querySelector('#df-4dad7c8c-0045-41d5-8433-07a34a8ba1d4');\n",
              "          const dataTable =\n",
              "            await google.colab.kernel.invokeFunction('convertToInteractive',\n",
              "                                                     [key], {});\n",
              "          if (!dataTable) return;\n",
              "\n",
              "          const docLinkHtml = 'Like what you see? Visit the ' +\n",
              "            '<a target=\"_blank\" href=https://colab.research.google.com/notebooks/data_table.ipynb>data table notebook</a>'\n",
              "            + ' to learn more about interactive tables.';\n",
              "          element.innerHTML = '';\n",
              "          dataTable['output_type'] = 'display_data';\n",
              "          await google.colab.output.renderOutput(dataTable, element);\n",
              "          const docLink = document.createElement('div');\n",
              "          docLink.innerHTML = docLinkHtml;\n",
              "          element.appendChild(docLink);\n",
              "        }\n",
              "      </script>\n",
              "    </div>\n",
              "  </div>\n",
              "  "
            ]
          },
          "metadata": {},
          "execution_count": 9
        }
      ]
    },
    {
      "cell_type": "code",
      "source": [
        "#Confusion Matrix\n",
        "from sklearn.metrics import plot_confusion_matrix, accuracy_score, classification_report\n",
        "plot_confusion_matrix(gnb, x_test, y_test)"
      ],
      "metadata": {
        "colab": {
          "base_uri": "https://localhost:8080/",
          "height": 351
        },
        "id": "kyuFEDjCWvWL",
        "outputId": "acd16323-5595-4a19-ea62-7ae70610bf58"
      },
      "execution_count": 11,
      "outputs": [
        {
          "output_type": "stream",
          "name": "stderr",
          "text": [
            "/usr/local/lib/python3.7/dist-packages/sklearn/utils/deprecation.py:87: FutureWarning: Function plot_confusion_matrix is deprecated; Function `plot_confusion_matrix` is deprecated in 1.0 and will be removed in 1.2. Use one of the class methods: ConfusionMatrixDisplay.from_predictions or ConfusionMatrixDisplay.from_estimator.\n",
            "  warnings.warn(msg, category=FutureWarning)\n"
          ]
        },
        {
          "output_type": "execute_result",
          "data": {
            "text/plain": [
              "<sklearn.metrics._plot.confusion_matrix.ConfusionMatrixDisplay at 0x7fe4e931b790>"
            ]
          },
          "metadata": {},
          "execution_count": 11
        },
        {
          "output_type": "display_data",
          "data": {
            "text/plain": [
              "<Figure size 432x288 with 2 Axes>"
            ],
            "image/png": "[encoded data removed]"
          },
          "metadata": {
            "needs_background": "light"
          }
        }
      ]
    },
    {
      "cell_type": "code",
      "source": [
        "accuracy_score(y_test, y_pred)"
      ],
      "metadata": {
        "colab": {
          "base_uri": "https://localhost:8080/"
        },
        "id": "DRTcU1mVXQVc",
        "outputId": "e3a26756-51a6-4757-d3db-3bcb75bd6060"
      },
      "execution_count": 12,
      "outputs": [
        {
          "output_type": "execute_result",
          "data": {
            "text/plain": [
              "0.9666666666666667"
            ]
          },
          "metadata": {},
          "execution_count": 12
        }
      ]
    },
    {
      "cell_type": "code",
      "source": [
        "print(classification_report(y_test, y_pred))"
      ],
      "metadata": {
        "colab": {
          "base_uri": "https://localhost:8080/"
        },
        "id": "WoOCH0wNXiHf",
        "outputId": "6f43545f-4dac-4d98-dfcb-d0d1388745e9"
      },
      "execution_count": 14,
      "outputs": [
        {
          "output_type": "stream",
          "name": "stdout",
          "text": [
            "                 precision    recall  f1-score   support\n",
            "\n",
            "    Iris-setosa       1.00      1.00      1.00        11\n",
            "Iris-versicolor       0.93      1.00      0.96        13\n",
            " Iris-virginica       1.00      0.83      0.91         6\n",
            "\n",
            "       accuracy                           0.97        30\n",
            "      macro avg       0.98      0.94      0.96        30\n",
            "   weighted avg       0.97      0.97      0.97        30\n",
            "\n"
          ]
        }
      ]
    },
    {
      "cell_type": "code",
      "source": [
        ""
      ],
      "metadata": {
        "id": "6JqujMR7XmhD"
      },
      "execution_count": null,
      "outputs": []
    }
  ]
}